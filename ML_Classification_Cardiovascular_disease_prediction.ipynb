{
  "nbformat": 4,
  "nbformat_minor": 0,
  "metadata": {
    "colab": {
      "name": "ML Classification- Cardiovascular disease prediction.ipynb",
      "provenance": [],
      "collapsed_sections": [],
      "mount_file_id": "1RHZbj-D0FlaM8MoGqolRA9FmDcOdA357",
      "authorship_tag": "ABX9TyMknE4+tXYRbONNTDlEN2MN",
      "include_colab_link": true
    },
    "kernelspec": {
      "name": "python3",
      "display_name": "Python 3"
    },
    "language_info": {
      "name": "python"
    }
  },
  "cells": [
    {
      "cell_type": "markdown",
      "metadata": {
        "id": "view-in-github",
        "colab_type": "text"
      },
      "source": [
        "<a href=\"https://colab.research.google.com/github/Neeraj6maths/Bike-sharing-demand-prediction-regression/blob/main/ML_Classification_Cardiovascular_disease_prediction.ipynb\" target=\"_parent\"><img src=\"https://colab.research.google.com/assets/colab-badge.svg\" alt=\"Open In Colab\"/></a>"
      ]
    },
    {
      "cell_type": "markdown",
      "source": [
        "The dataset is from an ongoing cardiovascular study on residents of the town of Framingham, Massachusetts. **The classification goal is to predict whether the patient has a 10-year risk of future coronary heart disease (CHD)**. The dataset provides the patients’ information. \\\n",
        "It includes over 4,000 records and 15 attributes. \n",
        "\n",
        " \\\n",
        "Data Description \n",
        " \n",
        "Demographic: \\\n",
        "• **Sex**: male or female(\"M\" or \"F\") \\\n",
        "• **Age**: Age of the patient \\\n",
        " \\\n",
        "Behavioral: \\\n",
        "• **is_smoking**: whether or not the patient is a current smoker (\"YES\" or \"NO\") \\\n",
        "• **CigsPerDay**: the number of cigarettes that the person smoked on average in one day. \\\n",
        "\n",
        "Medical( history) \\\n",
        "• **BPMeds**: whether or not the patient was on blood pressure medication (Nominal) \\\n",
        "• **prevalentstroke**: whether or not the patient had previously had a stroke (Nominal) \\\n",
        "• **prevalenthyp**: whether or not the patient was hypertensive (Nominal) \\\n",
        "• **Diabetes**: whether or not the patient had diabetes (Nominal) \\\n",
        "\n",
        "Medical(current) \\\n",
        "• **TotChol**: total cholesterol level (Continuous) \\\n",
        "• **sysBP**: systolic blood pressure (Continuous) \\\n",
        "• **diaBP**: diastolic blood pressure (Continuous) \\\n",
        "• **BMI**: Body Mass Index (Continuous) \\\n",
        "• **HeartRate**: heart rate (Continuous) \\\n",
        "• **Glucose**: glucose level (Continuous) \\\n",
        "\n",
        "Predict variable (desired target) \\\n",
        "• **tenyearchd** - 10-year risk of coronary heart disease CHD(binary: “1”, means “Yes”, “0” means “No”) - DV"
      ],
      "metadata": {
        "id": "1ZBTwJaRIPbb"
      }
    },
    {
      "cell_type": "code",
      "source": [
        "# hiding all warnings\n",
        "import warnings\n",
        "warnings.filterwarnings('ignore')"
      ],
      "metadata": {
        "id": "AdmrjxXAmgCs"
      },
      "execution_count": 1,
      "outputs": []
    },
    {
      "cell_type": "code",
      "execution_count": 2,
      "metadata": {
        "id": "28VObV8DDDLl"
      },
      "outputs": [],
      "source": [
        "# importing all the important libraries\n",
        "\n",
        "import pandas as pd\n",
        "import numpy as np\n",
        "import matplotlib.pyplot as plt\n",
        "import seaborn as sbn\n",
        "\n",
        "from sklearn.metrics import accuracy_score, balanced_accuracy_score, f1_score, precision_score, recall_score, roc_auc_score, confusion_matrix, classification_report\n",
        "from sklearn.tree import DecisionTreeClassifier \n",
        "from sklearn.model_selection import train_test_split\n",
        "from sklearn.ensemble import RandomForestClassifier, GradientBoostingClassifier\n",
        "from sklearn.feature_selection import mutual_info_classif\n",
        "from sklearn.svm import SVC"
      ]
    },
    {
      "cell_type": "code",
      "source": [
        "# importing the dataset and creating dataframe\n",
        "df = pd.read_csv(\"/content/drive/MyDrive/AlmaBetter/capstone projects/Supervised ML - Classification/Cardiovascular risk/Copy of data_cardiovascular_risk.csv\")"
      ],
      "metadata": {
        "id": "4YMUWqnzDcFH"
      },
      "execution_count": 3,
      "outputs": []
    },
    {
      "cell_type": "code",
      "source": [
        "# taking a look at the data\n",
        "df.head()"
      ],
      "metadata": {
        "colab": {
          "base_uri": "https://localhost:8080/",
          "height": 206
        },
        "id": "uFfgjXGMDhny",
        "outputId": "d6c096c7-f19c-45c7-88e3-29eaf1e01931"
      },
      "execution_count": 4,
      "outputs": [
        {
          "output_type": "execute_result",
          "data": {
            "text/plain": [
              "   id  age  education sex is_smoking  cigsPerDay  BPMeds  prevalentStroke  \\\n",
              "0   0   64        2.0   F        YES         3.0     0.0                0   \n",
              "1   1   36        4.0   M         NO         0.0     0.0                0   \n",
              "2   2   46        1.0   F        YES        10.0     0.0                0   \n",
              "3   3   50        1.0   M        YES        20.0     0.0                0   \n",
              "4   4   64        1.0   F        YES        30.0     0.0                0   \n",
              "\n",
              "   prevalentHyp  diabetes  totChol  sysBP  diaBP    BMI  heartRate  glucose  \\\n",
              "0             0         0    221.0  148.0   85.0    NaN       90.0     80.0   \n",
              "1             1         0    212.0  168.0   98.0  29.77       72.0     75.0   \n",
              "2             0         0    250.0  116.0   71.0  20.35       88.0     94.0   \n",
              "3             1         0    233.0  158.0   88.0  28.26       68.0     94.0   \n",
              "4             0         0    241.0  136.5   85.0  26.42       70.0     77.0   \n",
              "\n",
              "   TenYearCHD  \n",
              "0           1  \n",
              "1           0  \n",
              "2           0  \n",
              "3           1  \n",
              "4           0  "
            ],
            "text/html": [
              "\n",
              "  <div id=\"df-a81c19ca-a13f-407e-bbe3-e2fd64618822\">\n",
              "    <div class=\"colab-df-container\">\n",
              "      <div>\n",
              "<style scoped>\n",
              "    .dataframe tbody tr th:only-of-type {\n",
              "        vertical-align: middle;\n",
              "    }\n",
              "\n",
              "    .dataframe tbody tr th {\n",
              "        vertical-align: top;\n",
              "    }\n",
              "\n",
              "    .dataframe thead th {\n",
              "        text-align: right;\n",
              "    }\n",
              "</style>\n",
              "<table border=\"1\" class=\"dataframe\">\n",
              "  <thead>\n",
              "    <tr style=\"text-align: right;\">\n",
              "      <th></th>\n",
              "      <th>id</th>\n",
              "      <th>age</th>\n",
              "      <th>education</th>\n",
              "      <th>sex</th>\n",
              "      <th>is_smoking</th>\n",
              "      <th>cigsPerDay</th>\n",
              "      <th>BPMeds</th>\n",
              "      <th>prevalentStroke</th>\n",
              "      <th>prevalentHyp</th>\n",
              "      <th>diabetes</th>\n",
              "      <th>totChol</th>\n",
              "      <th>sysBP</th>\n",
              "      <th>diaBP</th>\n",
              "      <th>BMI</th>\n",
              "      <th>heartRate</th>\n",
              "      <th>glucose</th>\n",
              "      <th>TenYearCHD</th>\n",
              "    </tr>\n",
              "  </thead>\n",
              "  <tbody>\n",
              "    <tr>\n",
              "      <th>0</th>\n",
              "      <td>0</td>\n",
              "      <td>64</td>\n",
              "      <td>2.0</td>\n",
              "      <td>F</td>\n",
              "      <td>YES</td>\n",
              "      <td>3.0</td>\n",
              "      <td>0.0</td>\n",
              "      <td>0</td>\n",
              "      <td>0</td>\n",
              "      <td>0</td>\n",
              "      <td>221.0</td>\n",
              "      <td>148.0</td>\n",
              "      <td>85.0</td>\n",
              "      <td>NaN</td>\n",
              "      <td>90.0</td>\n",
              "      <td>80.0</td>\n",
              "      <td>1</td>\n",
              "    </tr>\n",
              "    <tr>\n",
              "      <th>1</th>\n",
              "      <td>1</td>\n",
              "      <td>36</td>\n",
              "      <td>4.0</td>\n",
              "      <td>M</td>\n",
              "      <td>NO</td>\n",
              "      <td>0.0</td>\n",
              "      <td>0.0</td>\n",
              "      <td>0</td>\n",
              "      <td>1</td>\n",
              "      <td>0</td>\n",
              "      <td>212.0</td>\n",
              "      <td>168.0</td>\n",
              "      <td>98.0</td>\n",
              "      <td>29.77</td>\n",
              "      <td>72.0</td>\n",
              "      <td>75.0</td>\n",
              "      <td>0</td>\n",
              "    </tr>\n",
              "    <tr>\n",
              "      <th>2</th>\n",
              "      <td>2</td>\n",
              "      <td>46</td>\n",
              "      <td>1.0</td>\n",
              "      <td>F</td>\n",
              "      <td>YES</td>\n",
              "      <td>10.0</td>\n",
              "      <td>0.0</td>\n",
              "      <td>0</td>\n",
              "      <td>0</td>\n",
              "      <td>0</td>\n",
              "      <td>250.0</td>\n",
              "      <td>116.0</td>\n",
              "      <td>71.0</td>\n",
              "      <td>20.35</td>\n",
              "      <td>88.0</td>\n",
              "      <td>94.0</td>\n",
              "      <td>0</td>\n",
              "    </tr>\n",
              "    <tr>\n",
              "      <th>3</th>\n",
              "      <td>3</td>\n",
              "      <td>50</td>\n",
              "      <td>1.0</td>\n",
              "      <td>M</td>\n",
              "      <td>YES</td>\n",
              "      <td>20.0</td>\n",
              "      <td>0.0</td>\n",
              "      <td>0</td>\n",
              "      <td>1</td>\n",
              "      <td>0</td>\n",
              "      <td>233.0</td>\n",
              "      <td>158.0</td>\n",
              "      <td>88.0</td>\n",
              "      <td>28.26</td>\n",
              "      <td>68.0</td>\n",
              "      <td>94.0</td>\n",
              "      <td>1</td>\n",
              "    </tr>\n",
              "    <tr>\n",
              "      <th>4</th>\n",
              "      <td>4</td>\n",
              "      <td>64</td>\n",
              "      <td>1.0</td>\n",
              "      <td>F</td>\n",
              "      <td>YES</td>\n",
              "      <td>30.0</td>\n",
              "      <td>0.0</td>\n",
              "      <td>0</td>\n",
              "      <td>0</td>\n",
              "      <td>0</td>\n",
              "      <td>241.0</td>\n",
              "      <td>136.5</td>\n",
              "      <td>85.0</td>\n",
              "      <td>26.42</td>\n",
              "      <td>70.0</td>\n",
              "      <td>77.0</td>\n",
              "      <td>0</td>\n",
              "    </tr>\n",
              "  </tbody>\n",
              "</table>\n",
              "</div>\n",
              "      <button class=\"colab-df-convert\" onclick=\"convertToInteractive('df-a81c19ca-a13f-407e-bbe3-e2fd64618822')\"\n",
              "              title=\"Convert this dataframe to an interactive table.\"\n",
              "              style=\"display:none;\">\n",
              "        \n",
              "  <svg xmlns=\"http://www.w3.org/2000/svg\" height=\"24px\"viewBox=\"0 0 24 24\"\n",
              "       width=\"24px\">\n",
              "    <path d=\"M0 0h24v24H0V0z\" fill=\"none\"/>\n",
              "    <path d=\"M18.56 5.44l.94 2.06.94-2.06 2.06-.94-2.06-.94-.94-2.06-.94 2.06-2.06.94zm-11 1L8.5 8.5l.94-2.06 2.06-.94-2.06-.94L8.5 2.5l-.94 2.06-2.06.94zm10 10l.94 2.06.94-2.06 2.06-.94-2.06-.94-.94-2.06-.94 2.06-2.06.94z\"/><path d=\"M17.41 7.96l-1.37-1.37c-.4-.4-.92-.59-1.43-.59-.52 0-1.04.2-1.43.59L10.3 9.45l-7.72 7.72c-.78.78-.78 2.05 0 2.83L4 21.41c.39.39.9.59 1.41.59.51 0 1.02-.2 1.41-.59l7.78-7.78 2.81-2.81c.8-.78.8-2.07 0-2.86zM5.41 20L4 18.59l7.72-7.72 1.47 1.35L5.41 20z\"/>\n",
              "  </svg>\n",
              "      </button>\n",
              "      \n",
              "  <style>\n",
              "    .colab-df-container {\n",
              "      display:flex;\n",
              "      flex-wrap:wrap;\n",
              "      gap: 12px;\n",
              "    }\n",
              "\n",
              "    .colab-df-convert {\n",
              "      background-color: #E8F0FE;\n",
              "      border: none;\n",
              "      border-radius: 50%;\n",
              "      cursor: pointer;\n",
              "      display: none;\n",
              "      fill: #1967D2;\n",
              "      height: 32px;\n",
              "      padding: 0 0 0 0;\n",
              "      width: 32px;\n",
              "    }\n",
              "\n",
              "    .colab-df-convert:hover {\n",
              "      background-color: #E2EBFA;\n",
              "      box-shadow: 0px 1px 2px rgba(60, 64, 67, 0.3), 0px 1px 3px 1px rgba(60, 64, 67, 0.15);\n",
              "      fill: #174EA6;\n",
              "    }\n",
              "\n",
              "    [theme=dark] .colab-df-convert {\n",
              "      background-color: #3B4455;\n",
              "      fill: #D2E3FC;\n",
              "    }\n",
              "\n",
              "    [theme=dark] .colab-df-convert:hover {\n",
              "      background-color: #434B5C;\n",
              "      box-shadow: 0px 1px 3px 1px rgba(0, 0, 0, 0.15);\n",
              "      filter: drop-shadow(0px 1px 2px rgba(0, 0, 0, 0.3));\n",
              "      fill: #FFFFFF;\n",
              "    }\n",
              "  </style>\n",
              "\n",
              "      <script>\n",
              "        const buttonEl =\n",
              "          document.querySelector('#df-a81c19ca-a13f-407e-bbe3-e2fd64618822 button.colab-df-convert');\n",
              "        buttonEl.style.display =\n",
              "          google.colab.kernel.accessAllowed ? 'block' : 'none';\n",
              "\n",
              "        async function convertToInteractive(key) {\n",
              "          const element = document.querySelector('#df-a81c19ca-a13f-407e-bbe3-e2fd64618822');\n",
              "          const dataTable =\n",
              "            await google.colab.kernel.invokeFunction('convertToInteractive',\n",
              "                                                     [key], {});\n",
              "          if (!dataTable) return;\n",
              "\n",
              "          const docLinkHtml = 'Like what you see? Visit the ' +\n",
              "            '<a target=\"_blank\" href=https://colab.research.google.com/notebooks/data_table.ipynb>data table notebook</a>'\n",
              "            + ' to learn more about interactive tables.';\n",
              "          element.innerHTML = '';\n",
              "          dataTable['output_type'] = 'display_data';\n",
              "          await google.colab.output.renderOutput(dataTable, element);\n",
              "          const docLink = document.createElement('div');\n",
              "          docLink.innerHTML = docLinkHtml;\n",
              "          element.appendChild(docLink);\n",
              "        }\n",
              "      </script>\n",
              "    </div>\n",
              "  </div>\n",
              "  "
            ]
          },
          "metadata": {},
          "execution_count": 4
        }
      ]
    },
    {
      "cell_type": "code",
      "source": [
        "df.tail()"
      ],
      "metadata": {
        "colab": {
          "base_uri": "https://localhost:8080/",
          "height": 206
        },
        "id": "wxZpPToTgsI6",
        "outputId": "4d145ff9-78a5-4182-96b7-eef6240538df"
      },
      "execution_count": 5,
      "outputs": [
        {
          "output_type": "execute_result",
          "data": {
            "text/plain": [
              "        id  age  education sex is_smoking  cigsPerDay  BPMeds  \\\n",
              "3385  3385   60        1.0   F         NO         0.0     0.0   \n",
              "3386  3386   46        1.0   F         NO         0.0     0.0   \n",
              "3387  3387   44        3.0   M        YES         3.0     0.0   \n",
              "3388  3388   60        1.0   M         NO         0.0     NaN   \n",
              "3389  3389   54        3.0   F         NO         0.0     0.0   \n",
              "\n",
              "      prevalentStroke  prevalentHyp  diabetes  totChol  sysBP  diaBP    BMI  \\\n",
              "3385                0             0         0    261.0  123.5   79.0  29.28   \n",
              "3386                0             0         0    199.0  102.0   56.0  21.96   \n",
              "3387                0             1         0    352.0  164.0  119.0  28.92   \n",
              "3388                0             1         0    191.0  167.0  105.0  23.01   \n",
              "3389                0             0         0    288.0  124.0   77.0  29.88   \n",
              "\n",
              "      heartRate  glucose  TenYearCHD  \n",
              "3385       70.0    103.0           0  \n",
              "3386       80.0     84.0           0  \n",
              "3387       73.0     72.0           1  \n",
              "3388       80.0     85.0           0  \n",
              "3389       79.0     92.0           0  "
            ],
            "text/html": [
              "\n",
              "  <div id=\"df-56d8533e-1ec9-4269-ace8-7503429fae47\">\n",
              "    <div class=\"colab-df-container\">\n",
              "      <div>\n",
              "<style scoped>\n",
              "    .dataframe tbody tr th:only-of-type {\n",
              "        vertical-align: middle;\n",
              "    }\n",
              "\n",
              "    .dataframe tbody tr th {\n",
              "        vertical-align: top;\n",
              "    }\n",
              "\n",
              "    .dataframe thead th {\n",
              "        text-align: right;\n",
              "    }\n",
              "</style>\n",
              "<table border=\"1\" class=\"dataframe\">\n",
              "  <thead>\n",
              "    <tr style=\"text-align: right;\">\n",
              "      <th></th>\n",
              "      <th>id</th>\n",
              "      <th>age</th>\n",
              "      <th>education</th>\n",
              "      <th>sex</th>\n",
              "      <th>is_smoking</th>\n",
              "      <th>cigsPerDay</th>\n",
              "      <th>BPMeds</th>\n",
              "      <th>prevalentStroke</th>\n",
              "      <th>prevalentHyp</th>\n",
              "      <th>diabetes</th>\n",
              "      <th>totChol</th>\n",
              "      <th>sysBP</th>\n",
              "      <th>diaBP</th>\n",
              "      <th>BMI</th>\n",
              "      <th>heartRate</th>\n",
              "      <th>glucose</th>\n",
              "      <th>TenYearCHD</th>\n",
              "    </tr>\n",
              "  </thead>\n",
              "  <tbody>\n",
              "    <tr>\n",
              "      <th>3385</th>\n",
              "      <td>3385</td>\n",
              "      <td>60</td>\n",
              "      <td>1.0</td>\n",
              "      <td>F</td>\n",
              "      <td>NO</td>\n",
              "      <td>0.0</td>\n",
              "      <td>0.0</td>\n",
              "      <td>0</td>\n",
              "      <td>0</td>\n",
              "      <td>0</td>\n",
              "      <td>261.0</td>\n",
              "      <td>123.5</td>\n",
              "      <td>79.0</td>\n",
              "      <td>29.28</td>\n",
              "      <td>70.0</td>\n",
              "      <td>103.0</td>\n",
              "      <td>0</td>\n",
              "    </tr>\n",
              "    <tr>\n",
              "      <th>3386</th>\n",
              "      <td>3386</td>\n",
              "      <td>46</td>\n",
              "      <td>1.0</td>\n",
              "      <td>F</td>\n",
              "      <td>NO</td>\n",
              "      <td>0.0</td>\n",
              "      <td>0.0</td>\n",
              "      <td>0</td>\n",
              "      <td>0</td>\n",
              "      <td>0</td>\n",
              "      <td>199.0</td>\n",
              "      <td>102.0</td>\n",
              "      <td>56.0</td>\n",
              "      <td>21.96</td>\n",
              "      <td>80.0</td>\n",
              "      <td>84.0</td>\n",
              "      <td>0</td>\n",
              "    </tr>\n",
              "    <tr>\n",
              "      <th>3387</th>\n",
              "      <td>3387</td>\n",
              "      <td>44</td>\n",
              "      <td>3.0</td>\n",
              "      <td>M</td>\n",
              "      <td>YES</td>\n",
              "      <td>3.0</td>\n",
              "      <td>0.0</td>\n",
              "      <td>0</td>\n",
              "      <td>1</td>\n",
              "      <td>0</td>\n",
              "      <td>352.0</td>\n",
              "      <td>164.0</td>\n",
              "      <td>119.0</td>\n",
              "      <td>28.92</td>\n",
              "      <td>73.0</td>\n",
              "      <td>72.0</td>\n",
              "      <td>1</td>\n",
              "    </tr>\n",
              "    <tr>\n",
              "      <th>3388</th>\n",
              "      <td>3388</td>\n",
              "      <td>60</td>\n",
              "      <td>1.0</td>\n",
              "      <td>M</td>\n",
              "      <td>NO</td>\n",
              "      <td>0.0</td>\n",
              "      <td>NaN</td>\n",
              "      <td>0</td>\n",
              "      <td>1</td>\n",
              "      <td>0</td>\n",
              "      <td>191.0</td>\n",
              "      <td>167.0</td>\n",
              "      <td>105.0</td>\n",
              "      <td>23.01</td>\n",
              "      <td>80.0</td>\n",
              "      <td>85.0</td>\n",
              "      <td>0</td>\n",
              "    </tr>\n",
              "    <tr>\n",
              "      <th>3389</th>\n",
              "      <td>3389</td>\n",
              "      <td>54</td>\n",
              "      <td>3.0</td>\n",
              "      <td>F</td>\n",
              "      <td>NO</td>\n",
              "      <td>0.0</td>\n",
              "      <td>0.0</td>\n",
              "      <td>0</td>\n",
              "      <td>0</td>\n",
              "      <td>0</td>\n",
              "      <td>288.0</td>\n",
              "      <td>124.0</td>\n",
              "      <td>77.0</td>\n",
              "      <td>29.88</td>\n",
              "      <td>79.0</td>\n",
              "      <td>92.0</td>\n",
              "      <td>0</td>\n",
              "    </tr>\n",
              "  </tbody>\n",
              "</table>\n",
              "</div>\n",
              "      <button class=\"colab-df-convert\" onclick=\"convertToInteractive('df-56d8533e-1ec9-4269-ace8-7503429fae47')\"\n",
              "              title=\"Convert this dataframe to an interactive table.\"\n",
              "              style=\"display:none;\">\n",
              "        \n",
              "  <svg xmlns=\"http://www.w3.org/2000/svg\" height=\"24px\"viewBox=\"0 0 24 24\"\n",
              "       width=\"24px\">\n",
              "    <path d=\"M0 0h24v24H0V0z\" fill=\"none\"/>\n",
              "    <path d=\"M18.56 5.44l.94 2.06.94-2.06 2.06-.94-2.06-.94-.94-2.06-.94 2.06-2.06.94zm-11 1L8.5 8.5l.94-2.06 2.06-.94-2.06-.94L8.5 2.5l-.94 2.06-2.06.94zm10 10l.94 2.06.94-2.06 2.06-.94-2.06-.94-.94-2.06-.94 2.06-2.06.94z\"/><path d=\"M17.41 7.96l-1.37-1.37c-.4-.4-.92-.59-1.43-.59-.52 0-1.04.2-1.43.59L10.3 9.45l-7.72 7.72c-.78.78-.78 2.05 0 2.83L4 21.41c.39.39.9.59 1.41.59.51 0 1.02-.2 1.41-.59l7.78-7.78 2.81-2.81c.8-.78.8-2.07 0-2.86zM5.41 20L4 18.59l7.72-7.72 1.47 1.35L5.41 20z\"/>\n",
              "  </svg>\n",
              "      </button>\n",
              "      \n",
              "  <style>\n",
              "    .colab-df-container {\n",
              "      display:flex;\n",
              "      flex-wrap:wrap;\n",
              "      gap: 12px;\n",
              "    }\n",
              "\n",
              "    .colab-df-convert {\n",
              "      background-color: #E8F0FE;\n",
              "      border: none;\n",
              "      border-radius: 50%;\n",
              "      cursor: pointer;\n",
              "      display: none;\n",
              "      fill: #1967D2;\n",
              "      height: 32px;\n",
              "      padding: 0 0 0 0;\n",
              "      width: 32px;\n",
              "    }\n",
              "\n",
              "    .colab-df-convert:hover {\n",
              "      background-color: #E2EBFA;\n",
              "      box-shadow: 0px 1px 2px rgba(60, 64, 67, 0.3), 0px 1px 3px 1px rgba(60, 64, 67, 0.15);\n",
              "      fill: #174EA6;\n",
              "    }\n",
              "\n",
              "    [theme=dark] .colab-df-convert {\n",
              "      background-color: #3B4455;\n",
              "      fill: #D2E3FC;\n",
              "    }\n",
              "\n",
              "    [theme=dark] .colab-df-convert:hover {\n",
              "      background-color: #434B5C;\n",
              "      box-shadow: 0px 1px 3px 1px rgba(0, 0, 0, 0.15);\n",
              "      filter: drop-shadow(0px 1px 2px rgba(0, 0, 0, 0.3));\n",
              "      fill: #FFFFFF;\n",
              "    }\n",
              "  </style>\n",
              "\n",
              "      <script>\n",
              "        const buttonEl =\n",
              "          document.querySelector('#df-56d8533e-1ec9-4269-ace8-7503429fae47 button.colab-df-convert');\n",
              "        buttonEl.style.display =\n",
              "          google.colab.kernel.accessAllowed ? 'block' : 'none';\n",
              "\n",
              "        async function convertToInteractive(key) {\n",
              "          const element = document.querySelector('#df-56d8533e-1ec9-4269-ace8-7503429fae47');\n",
              "          const dataTable =\n",
              "            await google.colab.kernel.invokeFunction('convertToInteractive',\n",
              "                                                     [key], {});\n",
              "          if (!dataTable) return;\n",
              "\n",
              "          const docLinkHtml = 'Like what you see? Visit the ' +\n",
              "            '<a target=\"_blank\" href=https://colab.research.google.com/notebooks/data_table.ipynb>data table notebook</a>'\n",
              "            + ' to learn more about interactive tables.';\n",
              "          element.innerHTML = '';\n",
              "          dataTable['output_type'] = 'display_data';\n",
              "          await google.colab.output.renderOutput(dataTable, element);\n",
              "          const docLink = document.createElement('div');\n",
              "          docLink.innerHTML = docLinkHtml;\n",
              "          element.appendChild(docLink);\n",
              "        }\n",
              "      </script>\n",
              "    </div>\n",
              "  </div>\n",
              "  "
            ]
          },
          "metadata": {},
          "execution_count": 5
        }
      ]
    },
    {
      "cell_type": "code",
      "source": [
        "# getting basic info about data\n",
        "df.info()"
      ],
      "metadata": {
        "colab": {
          "base_uri": "https://localhost:8080/"
        },
        "id": "KX534E1fD1X1",
        "outputId": "935147b8-623f-40df-ff7e-ea22fb5a97ee"
      },
      "execution_count": 6,
      "outputs": [
        {
          "output_type": "stream",
          "name": "stdout",
          "text": [
            "<class 'pandas.core.frame.DataFrame'>\n",
            "RangeIndex: 3390 entries, 0 to 3389\n",
            "Data columns (total 17 columns):\n",
            " #   Column           Non-Null Count  Dtype  \n",
            "---  ------           --------------  -----  \n",
            " 0   id               3390 non-null   int64  \n",
            " 1   age              3390 non-null   int64  \n",
            " 2   education        3303 non-null   float64\n",
            " 3   sex              3390 non-null   object \n",
            " 4   is_smoking       3390 non-null   object \n",
            " 5   cigsPerDay       3368 non-null   float64\n",
            " 6   BPMeds           3346 non-null   float64\n",
            " 7   prevalentStroke  3390 non-null   int64  \n",
            " 8   prevalentHyp     3390 non-null   int64  \n",
            " 9   diabetes         3390 non-null   int64  \n",
            " 10  totChol          3352 non-null   float64\n",
            " 11  sysBP            3390 non-null   float64\n",
            " 12  diaBP            3390 non-null   float64\n",
            " 13  BMI              3376 non-null   float64\n",
            " 14  heartRate        3389 non-null   float64\n",
            " 15  glucose          3086 non-null   float64\n",
            " 16  TenYearCHD       3390 non-null   int64  \n",
            "dtypes: float64(9), int64(6), object(2)\n",
            "memory usage: 450.4+ KB\n"
          ]
        }
      ]
    },
    {
      "cell_type": "code",
      "source": [
        "# getting statistical summary of data\n",
        "df.describe(include = 'all')"
      ],
      "metadata": {
        "colab": {
          "base_uri": "https://localhost:8080/",
          "height": 458
        },
        "id": "1k4SruNJD5ku",
        "outputId": "51eabbb4-9210-48ce-9521-f0c069aae56d"
      },
      "execution_count": 7,
      "outputs": [
        {
          "output_type": "execute_result",
          "data": {
            "text/plain": [
              "                 id          age    education   sex is_smoking   cigsPerDay  \\\n",
              "count   3390.000000  3390.000000  3303.000000  3390       3390  3368.000000   \n",
              "unique          NaN          NaN          NaN     2          2          NaN   \n",
              "top             NaN          NaN          NaN     F         NO          NaN   \n",
              "freq            NaN          NaN          NaN  1923       1703          NaN   \n",
              "mean    1694.500000    49.542183     1.970936   NaN        NaN     9.069477   \n",
              "std      978.753033     8.592878     1.019081   NaN        NaN    11.879078   \n",
              "min        0.000000    32.000000     1.000000   NaN        NaN     0.000000   \n",
              "25%      847.250000    42.000000     1.000000   NaN        NaN     0.000000   \n",
              "50%     1694.500000    49.000000     2.000000   NaN        NaN     0.000000   \n",
              "75%     2541.750000    56.000000     3.000000   NaN        NaN    20.000000   \n",
              "max     3389.000000    70.000000     4.000000   NaN        NaN    70.000000   \n",
              "\n",
              "             BPMeds  prevalentStroke  prevalentHyp     diabetes      totChol  \\\n",
              "count   3346.000000      3390.000000   3390.000000  3390.000000  3352.000000   \n",
              "unique          NaN              NaN           NaN          NaN          NaN   \n",
              "top             NaN              NaN           NaN          NaN          NaN   \n",
              "freq            NaN              NaN           NaN          NaN          NaN   \n",
              "mean       0.029886         0.006490      0.315339     0.025664   237.074284   \n",
              "std        0.170299         0.080309      0.464719     0.158153    45.247430   \n",
              "min        0.000000         0.000000      0.000000     0.000000   107.000000   \n",
              "25%        0.000000         0.000000      0.000000     0.000000   206.000000   \n",
              "50%        0.000000         0.000000      0.000000     0.000000   234.000000   \n",
              "75%        0.000000         0.000000      1.000000     0.000000   264.000000   \n",
              "max        1.000000         1.000000      1.000000     1.000000   696.000000   \n",
              "\n",
              "             sysBP        diaBP          BMI    heartRate      glucose  \\\n",
              "count   3390.00000  3390.000000  3376.000000  3389.000000  3086.000000   \n",
              "unique         NaN          NaN          NaN          NaN          NaN   \n",
              "top            NaN          NaN          NaN          NaN          NaN   \n",
              "freq           NaN          NaN          NaN          NaN          NaN   \n",
              "mean     132.60118    82.883038    25.794964    75.977279    82.086520   \n",
              "std       22.29203    12.023581     4.115449    11.971868    24.244753   \n",
              "min       83.50000    48.000000    15.960000    45.000000    40.000000   \n",
              "25%      117.00000    74.500000    23.020000    68.000000    71.000000   \n",
              "50%      128.50000    82.000000    25.380000    75.000000    78.000000   \n",
              "75%      144.00000    90.000000    28.040000    83.000000    87.000000   \n",
              "max      295.00000   142.500000    56.800000   143.000000   394.000000   \n",
              "\n",
              "         TenYearCHD  \n",
              "count   3390.000000  \n",
              "unique          NaN  \n",
              "top             NaN  \n",
              "freq            NaN  \n",
              "mean       0.150737  \n",
              "std        0.357846  \n",
              "min        0.000000  \n",
              "25%        0.000000  \n",
              "50%        0.000000  \n",
              "75%        0.000000  \n",
              "max        1.000000  "
            ],
            "text/html": [
              "\n",
              "  <div id=\"df-b49ebe83-9412-4fb7-b9dd-a517591eeabc\">\n",
              "    <div class=\"colab-df-container\">\n",
              "      <div>\n",
              "<style scoped>\n",
              "    .dataframe tbody tr th:only-of-type {\n",
              "        vertical-align: middle;\n",
              "    }\n",
              "\n",
              "    .dataframe tbody tr th {\n",
              "        vertical-align: top;\n",
              "    }\n",
              "\n",
              "    .dataframe thead th {\n",
              "        text-align: right;\n",
              "    }\n",
              "</style>\n",
              "<table border=\"1\" class=\"dataframe\">\n",
              "  <thead>\n",
              "    <tr style=\"text-align: right;\">\n",
              "      <th></th>\n",
              "      <th>id</th>\n",
              "      <th>age</th>\n",
              "      <th>education</th>\n",
              "      <th>sex</th>\n",
              "      <th>is_smoking</th>\n",
              "      <th>cigsPerDay</th>\n",
              "      <th>BPMeds</th>\n",
              "      <th>prevalentStroke</th>\n",
              "      <th>prevalentHyp</th>\n",
              "      <th>diabetes</th>\n",
              "      <th>totChol</th>\n",
              "      <th>sysBP</th>\n",
              "      <th>diaBP</th>\n",
              "      <th>BMI</th>\n",
              "      <th>heartRate</th>\n",
              "      <th>glucose</th>\n",
              "      <th>TenYearCHD</th>\n",
              "    </tr>\n",
              "  </thead>\n",
              "  <tbody>\n",
              "    <tr>\n",
              "      <th>count</th>\n",
              "      <td>3390.000000</td>\n",
              "      <td>3390.000000</td>\n",
              "      <td>3303.000000</td>\n",
              "      <td>3390</td>\n",
              "      <td>3390</td>\n",
              "      <td>3368.000000</td>\n",
              "      <td>3346.000000</td>\n",
              "      <td>3390.000000</td>\n",
              "      <td>3390.000000</td>\n",
              "      <td>3390.000000</td>\n",
              "      <td>3352.000000</td>\n",
              "      <td>3390.00000</td>\n",
              "      <td>3390.000000</td>\n",
              "      <td>3376.000000</td>\n",
              "      <td>3389.000000</td>\n",
              "      <td>3086.000000</td>\n",
              "      <td>3390.000000</td>\n",
              "    </tr>\n",
              "    <tr>\n",
              "      <th>unique</th>\n",
              "      <td>NaN</td>\n",
              "      <td>NaN</td>\n",
              "      <td>NaN</td>\n",
              "      <td>2</td>\n",
              "      <td>2</td>\n",
              "      <td>NaN</td>\n",
              "      <td>NaN</td>\n",
              "      <td>NaN</td>\n",
              "      <td>NaN</td>\n",
              "      <td>NaN</td>\n",
              "      <td>NaN</td>\n",
              "      <td>NaN</td>\n",
              "      <td>NaN</td>\n",
              "      <td>NaN</td>\n",
              "      <td>NaN</td>\n",
              "      <td>NaN</td>\n",
              "      <td>NaN</td>\n",
              "    </tr>\n",
              "    <tr>\n",
              "      <th>top</th>\n",
              "      <td>NaN</td>\n",
              "      <td>NaN</td>\n",
              "      <td>NaN</td>\n",
              "      <td>F</td>\n",
              "      <td>NO</td>\n",
              "      <td>NaN</td>\n",
              "      <td>NaN</td>\n",
              "      <td>NaN</td>\n",
              "      <td>NaN</td>\n",
              "      <td>NaN</td>\n",
              "      <td>NaN</td>\n",
              "      <td>NaN</td>\n",
              "      <td>NaN</td>\n",
              "      <td>NaN</td>\n",
              "      <td>NaN</td>\n",
              "      <td>NaN</td>\n",
              "      <td>NaN</td>\n",
              "    </tr>\n",
              "    <tr>\n",
              "      <th>freq</th>\n",
              "      <td>NaN</td>\n",
              "      <td>NaN</td>\n",
              "      <td>NaN</td>\n",
              "      <td>1923</td>\n",
              "      <td>1703</td>\n",
              "      <td>NaN</td>\n",
              "      <td>NaN</td>\n",
              "      <td>NaN</td>\n",
              "      <td>NaN</td>\n",
              "      <td>NaN</td>\n",
              "      <td>NaN</td>\n",
              "      <td>NaN</td>\n",
              "      <td>NaN</td>\n",
              "      <td>NaN</td>\n",
              "      <td>NaN</td>\n",
              "      <td>NaN</td>\n",
              "      <td>NaN</td>\n",
              "    </tr>\n",
              "    <tr>\n",
              "      <th>mean</th>\n",
              "      <td>1694.500000</td>\n",
              "      <td>49.542183</td>\n",
              "      <td>1.970936</td>\n",
              "      <td>NaN</td>\n",
              "      <td>NaN</td>\n",
              "      <td>9.069477</td>\n",
              "      <td>0.029886</td>\n",
              "      <td>0.006490</td>\n",
              "      <td>0.315339</td>\n",
              "      <td>0.025664</td>\n",
              "      <td>237.074284</td>\n",
              "      <td>132.60118</td>\n",
              "      <td>82.883038</td>\n",
              "      <td>25.794964</td>\n",
              "      <td>75.977279</td>\n",
              "      <td>82.086520</td>\n",
              "      <td>0.150737</td>\n",
              "    </tr>\n",
              "    <tr>\n",
              "      <th>std</th>\n",
              "      <td>978.753033</td>\n",
              "      <td>8.592878</td>\n",
              "      <td>1.019081</td>\n",
              "      <td>NaN</td>\n",
              "      <td>NaN</td>\n",
              "      <td>11.879078</td>\n",
              "      <td>0.170299</td>\n",
              "      <td>0.080309</td>\n",
              "      <td>0.464719</td>\n",
              "      <td>0.158153</td>\n",
              "      <td>45.247430</td>\n",
              "      <td>22.29203</td>\n",
              "      <td>12.023581</td>\n",
              "      <td>4.115449</td>\n",
              "      <td>11.971868</td>\n",
              "      <td>24.244753</td>\n",
              "      <td>0.357846</td>\n",
              "    </tr>\n",
              "    <tr>\n",
              "      <th>min</th>\n",
              "      <td>0.000000</td>\n",
              "      <td>32.000000</td>\n",
              "      <td>1.000000</td>\n",
              "      <td>NaN</td>\n",
              "      <td>NaN</td>\n",
              "      <td>0.000000</td>\n",
              "      <td>0.000000</td>\n",
              "      <td>0.000000</td>\n",
              "      <td>0.000000</td>\n",
              "      <td>0.000000</td>\n",
              "      <td>107.000000</td>\n",
              "      <td>83.50000</td>\n",
              "      <td>48.000000</td>\n",
              "      <td>15.960000</td>\n",
              "      <td>45.000000</td>\n",
              "      <td>40.000000</td>\n",
              "      <td>0.000000</td>\n",
              "    </tr>\n",
              "    <tr>\n",
              "      <th>25%</th>\n",
              "      <td>847.250000</td>\n",
              "      <td>42.000000</td>\n",
              "      <td>1.000000</td>\n",
              "      <td>NaN</td>\n",
              "      <td>NaN</td>\n",
              "      <td>0.000000</td>\n",
              "      <td>0.000000</td>\n",
              "      <td>0.000000</td>\n",
              "      <td>0.000000</td>\n",
              "      <td>0.000000</td>\n",
              "      <td>206.000000</td>\n",
              "      <td>117.00000</td>\n",
              "      <td>74.500000</td>\n",
              "      <td>23.020000</td>\n",
              "      <td>68.000000</td>\n",
              "      <td>71.000000</td>\n",
              "      <td>0.000000</td>\n",
              "    </tr>\n",
              "    <tr>\n",
              "      <th>50%</th>\n",
              "      <td>1694.500000</td>\n",
              "      <td>49.000000</td>\n",
              "      <td>2.000000</td>\n",
              "      <td>NaN</td>\n",
              "      <td>NaN</td>\n",
              "      <td>0.000000</td>\n",
              "      <td>0.000000</td>\n",
              "      <td>0.000000</td>\n",
              "      <td>0.000000</td>\n",
              "      <td>0.000000</td>\n",
              "      <td>234.000000</td>\n",
              "      <td>128.50000</td>\n",
              "      <td>82.000000</td>\n",
              "      <td>25.380000</td>\n",
              "      <td>75.000000</td>\n",
              "      <td>78.000000</td>\n",
              "      <td>0.000000</td>\n",
              "    </tr>\n",
              "    <tr>\n",
              "      <th>75%</th>\n",
              "      <td>2541.750000</td>\n",
              "      <td>56.000000</td>\n",
              "      <td>3.000000</td>\n",
              "      <td>NaN</td>\n",
              "      <td>NaN</td>\n",
              "      <td>20.000000</td>\n",
              "      <td>0.000000</td>\n",
              "      <td>0.000000</td>\n",
              "      <td>1.000000</td>\n",
              "      <td>0.000000</td>\n",
              "      <td>264.000000</td>\n",
              "      <td>144.00000</td>\n",
              "      <td>90.000000</td>\n",
              "      <td>28.040000</td>\n",
              "      <td>83.000000</td>\n",
              "      <td>87.000000</td>\n",
              "      <td>0.000000</td>\n",
              "    </tr>\n",
              "    <tr>\n",
              "      <th>max</th>\n",
              "      <td>3389.000000</td>\n",
              "      <td>70.000000</td>\n",
              "      <td>4.000000</td>\n",
              "      <td>NaN</td>\n",
              "      <td>NaN</td>\n",
              "      <td>70.000000</td>\n",
              "      <td>1.000000</td>\n",
              "      <td>1.000000</td>\n",
              "      <td>1.000000</td>\n",
              "      <td>1.000000</td>\n",
              "      <td>696.000000</td>\n",
              "      <td>295.00000</td>\n",
              "      <td>142.500000</td>\n",
              "      <td>56.800000</td>\n",
              "      <td>143.000000</td>\n",
              "      <td>394.000000</td>\n",
              "      <td>1.000000</td>\n",
              "    </tr>\n",
              "  </tbody>\n",
              "</table>\n",
              "</div>\n",
              "      <button class=\"colab-df-convert\" onclick=\"convertToInteractive('df-b49ebe83-9412-4fb7-b9dd-a517591eeabc')\"\n",
              "              title=\"Convert this dataframe to an interactive table.\"\n",
              "              style=\"display:none;\">\n",
              "        \n",
              "  <svg xmlns=\"http://www.w3.org/2000/svg\" height=\"24px\"viewBox=\"0 0 24 24\"\n",
              "       width=\"24px\">\n",
              "    <path d=\"M0 0h24v24H0V0z\" fill=\"none\"/>\n",
              "    <path d=\"M18.56 5.44l.94 2.06.94-2.06 2.06-.94-2.06-.94-.94-2.06-.94 2.06-2.06.94zm-11 1L8.5 8.5l.94-2.06 2.06-.94-2.06-.94L8.5 2.5l-.94 2.06-2.06.94zm10 10l.94 2.06.94-2.06 2.06-.94-2.06-.94-.94-2.06-.94 2.06-2.06.94z\"/><path d=\"M17.41 7.96l-1.37-1.37c-.4-.4-.92-.59-1.43-.59-.52 0-1.04.2-1.43.59L10.3 9.45l-7.72 7.72c-.78.78-.78 2.05 0 2.83L4 21.41c.39.39.9.59 1.41.59.51 0 1.02-.2 1.41-.59l7.78-7.78 2.81-2.81c.8-.78.8-2.07 0-2.86zM5.41 20L4 18.59l7.72-7.72 1.47 1.35L5.41 20z\"/>\n",
              "  </svg>\n",
              "      </button>\n",
              "      \n",
              "  <style>\n",
              "    .colab-df-container {\n",
              "      display:flex;\n",
              "      flex-wrap:wrap;\n",
              "      gap: 12px;\n",
              "    }\n",
              "\n",
              "    .colab-df-convert {\n",
              "      background-color: #E8F0FE;\n",
              "      border: none;\n",
              "      border-radius: 50%;\n",
              "      cursor: pointer;\n",
              "      display: none;\n",
              "      fill: #1967D2;\n",
              "      height: 32px;\n",
              "      padding: 0 0 0 0;\n",
              "      width: 32px;\n",
              "    }\n",
              "\n",
              "    .colab-df-convert:hover {\n",
              "      background-color: #E2EBFA;\n",
              "      box-shadow: 0px 1px 2px rgba(60, 64, 67, 0.3), 0px 1px 3px 1px rgba(60, 64, 67, 0.15);\n",
              "      fill: #174EA6;\n",
              "    }\n",
              "\n",
              "    [theme=dark] .colab-df-convert {\n",
              "      background-color: #3B4455;\n",
              "      fill: #D2E3FC;\n",
              "    }\n",
              "\n",
              "    [theme=dark] .colab-df-convert:hover {\n",
              "      background-color: #434B5C;\n",
              "      box-shadow: 0px 1px 3px 1px rgba(0, 0, 0, 0.15);\n",
              "      filter: drop-shadow(0px 1px 2px rgba(0, 0, 0, 0.3));\n",
              "      fill: #FFFFFF;\n",
              "    }\n",
              "  </style>\n",
              "\n",
              "      <script>\n",
              "        const buttonEl =\n",
              "          document.querySelector('#df-b49ebe83-9412-4fb7-b9dd-a517591eeabc button.colab-df-convert');\n",
              "        buttonEl.style.display =\n",
              "          google.colab.kernel.accessAllowed ? 'block' : 'none';\n",
              "\n",
              "        async function convertToInteractive(key) {\n",
              "          const element = document.querySelector('#df-b49ebe83-9412-4fb7-b9dd-a517591eeabc');\n",
              "          const dataTable =\n",
              "            await google.colab.kernel.invokeFunction('convertToInteractive',\n",
              "                                                     [key], {});\n",
              "          if (!dataTable) return;\n",
              "\n",
              "          const docLinkHtml = 'Like what you see? Visit the ' +\n",
              "            '<a target=\"_blank\" href=https://colab.research.google.com/notebooks/data_table.ipynb>data table notebook</a>'\n",
              "            + ' to learn more about interactive tables.';\n",
              "          element.innerHTML = '';\n",
              "          dataTable['output_type'] = 'display_data';\n",
              "          await google.colab.output.renderOutput(dataTable, element);\n",
              "          const docLink = document.createElement('div');\n",
              "          docLink.innerHTML = docLinkHtml;\n",
              "          element.appendChild(docLink);\n",
              "        }\n",
              "      </script>\n",
              "    </div>\n",
              "  </div>\n",
              "  "
            ]
          },
          "metadata": {},
          "execution_count": 7
        }
      ]
    },
    {
      "cell_type": "code",
      "source": [
        "# Checking no. of null values in the data\n",
        "df.isnull().sum()"
      ],
      "metadata": {
        "colab": {
          "base_uri": "https://localhost:8080/"
        },
        "id": "gMAixAxIDzm2",
        "outputId": "82079801-ebd3-46f8-a74f-cce59ec94b8f"
      },
      "execution_count": 8,
      "outputs": [
        {
          "output_type": "execute_result",
          "data": {
            "text/plain": [
              "id                   0\n",
              "age                  0\n",
              "education           87\n",
              "sex                  0\n",
              "is_smoking           0\n",
              "cigsPerDay          22\n",
              "BPMeds              44\n",
              "prevalentStroke      0\n",
              "prevalentHyp         0\n",
              "diabetes             0\n",
              "totChol             38\n",
              "sysBP                0\n",
              "diaBP                0\n",
              "BMI                 14\n",
              "heartRate            1\n",
              "glucose            304\n",
              "TenYearCHD           0\n",
              "dtype: int64"
            ]
          },
          "metadata": {},
          "execution_count": 8
        }
      ]
    },
    {
      "cell_type": "markdown",
      "source": [
        "Null values are present, we will remove them later in project."
      ],
      "metadata": {
        "id": "mmgXzDJpmRaM"
      }
    },
    {
      "cell_type": "code",
      "source": [
        "# checking for duplicate rows\n",
        "df.duplicated().sum()"
      ],
      "metadata": {
        "colab": {
          "base_uri": "https://localhost:8080/"
        },
        "id": "2wYqwB--D9-5",
        "outputId": "757b626d-50c9-46c9-f0f3-ce73a813e23f"
      },
      "execution_count": 9,
      "outputs": [
        {
          "output_type": "execute_result",
          "data": {
            "text/plain": [
              "0"
            ]
          },
          "metadata": {},
          "execution_count": 9
        }
      ]
    },
    {
      "cell_type": "markdown",
      "source": [
        "No duplicate rows are present"
      ],
      "metadata": {
        "id": "tU89UM5dhBdQ"
      }
    },
    {
      "cell_type": "markdown",
      "source": [
        "#EDA"
      ],
      "metadata": {
        "id": "uFSeRH5YgH6l"
      }
    },
    {
      "cell_type": "markdown",
      "source": [
        "## Univariate Analysis"
      ],
      "metadata": {
        "id": "asEmbfWggJ67"
      }
    },
    {
      "cell_type": "code",
      "source": [
        "# Plotting the countplot for dependent variable\n",
        "dep_variable = 'TenYearCHD'\n",
        "plt.figure(figsize = (8,8))\n",
        "sbn.countplot(df[dep_variable])\n",
        "plt.show()"
      ],
      "metadata": {
        "colab": {
          "base_uri": "https://localhost:8080/",
          "height": 497
        },
        "id": "_6_kwJrbhTmW",
        "outputId": "25da3d8d-5ecf-4e2d-d32f-60acddd031f8"
      },
      "execution_count": 10,
      "outputs": [
        {
          "output_type": "display_data",
          "data": {
            "text/plain": [
              "<Figure size 576x576 with 1 Axes>"
            ],
            "image/png": "[encoded data removed]"
          },
          "metadata": {
            "needs_background": "light"
          }
        }
      ]
    },
    {
      "cell_type": "code",
      "source": [
        "df[dep_variable].value_counts()"
      ],
      "metadata": {
        "colab": {
          "base_uri": "https://localhost:8080/"
        },
        "id": "D5IUaRWzhsJm",
        "outputId": "04fa5e04-ae8d-492a-8227-ab92f1cd572d"
      },
      "execution_count": 11,
      "outputs": [
        {
          "output_type": "execute_result",
          "data": {
            "text/plain": [
              "0    2879\n",
              "1     511\n",
              "Name: TenYearCHD, dtype: int64"
            ]
          },
          "metadata": {},
          "execution_count": 11
        }
      ]
    },
    {
      "cell_type": "markdown",
      "source": [
        "Given data is highly imbalanced."
      ],
      "metadata": {
        "id": "Soz6L1QGhoDi"
      }
    },
    {
      "cell_type": "code",
      "source": [
        "# Plotting distribution of values of cts numerical features\n",
        "cts_features = ['id','age','cigsPerDay','totChol','sysBP','diaBP','BMI','heartRate','glucose']\n",
        "for col in cts_features[1:]:\n",
        "  plt.figure(figsize = (8,5))\n",
        "  sbn.histplot(df[col], bins = 50)"
      ],
      "metadata": {
        "colab": {
          "base_uri": "https://localhost:8080/",
          "height": 1000
        },
        "id": "KR-fzq6I0dY-",
        "outputId": "6a3104b8-bb8e-4575-9dc7-e8ec4f6da762"
      },
      "execution_count": 12,
      "outputs": [
        {
          "output_type": "display_data",
          "data": {
            "text/plain": [
              "<Figure size 576x360 with 1 Axes>"
            ],
            "image/png": "[encoded data removed]"
          },
          "metadata": {
            "needs_background": "light"
          }
        },
        {
          "output_type": "display_data",
          "data": {
            "text/plain": [
              "<Figure size 576x360 with 1 Axes>"
            ],
            "image/png": "[encoded data removed]"
          },
          "metadata": {
            "needs_background": "light"
          }
        },
        {
          "output_type": "display_data",
          "data": {
            "text/plain": [
              "<Figure size 576x360 with 1 Axes>"
            ],
            "image/png": "[encoded data removed]"
          },
          "metadata": {
            "needs_background": "light"
          }
        },
        {
          "output_type": "display_data",
          "data": {
            "text/plain": [
              "<Figure size 576x360 with 1 Axes>"
            ],
            "image/png": "[encoded data removed]"
          },
          "metadata": {
            "needs_background": "light"
          }
        },
        {
          "output_type": "display_data",
          "data": {
            "text/plain": [
              "<Figure size 576x360 with 1 Axes>"
            ],
            "image/png": "[encoded data removed]"
          },
          "metadata": {
            "needs_background": "light"
          }
        },
        {
          "output_type": "display_data",
          "data": {
            "text/plain": [
              "<Figure size 576x360 with 1 Axes>"
            ],
            "image/png": "[encoded data removed]"
          },
          "metadata": {
            "needs_background": "light"
          }
        },
        {
          "output_type": "display_data",
          "data": {
            "text/plain": [
              "<Figure size 576x360 with 1 Axes>"
            ],
            "image/png": "[encoded data removed]"
          },
          "metadata": {
            "needs_background": "light"
          }
        },
        {
          "output_type": "display_data",
          "data": {
            "text/plain": [
              "<Figure size 576x360 with 1 Axes>"
            ],
            "image/png": "[encoded data removed]"
          },
          "metadata": {
            "needs_background": "light"
          }
        }
      ]
    },
    {
      "cell_type": "markdown",
      "source": [
        "Most of the numerical features are positively skewed."
      ],
      "metadata": {
        "id": "PZIyMqj6gbHc"
      }
    },
    {
      "cell_type": "code",
      "source": [
        "# plotting the count plot of categorical features\n",
        "cat_features = ['education','sex','is_smoking','BPMeds','prevalentStroke','prevalentHyp','diabetes']\n",
        "for col in cat_features:\n",
        "  plt.figure(figsize = (8,5))\n",
        "  sbn.countplot(df[col])\n",
        "  plt.show()"
      ],
      "metadata": {
        "colab": {
          "base_uri": "https://localhost:8080/",
          "height": 1000
        },
        "id": "mbPmOsByOa9q",
        "outputId": "7232c7bc-8324-4551-b2eb-1f0354500765"
      },
      "execution_count": 13,
      "outputs": [
        {
          "output_type": "display_data",
          "data": {
            "text/plain": [
              "<Figure size 576x360 with 1 Axes>"
            ],
            "image/png": "[encoded data removed]"
          },
          "metadata": {
            "needs_background": "light"
          }
        },
        {
          "output_type": "display_data",
          "data": {
            "text/plain": [
              "<Figure size 576x360 with 1 Axes>"
            ],
            "image/png": "[encoded data removed]"
          },
          "metadata": {
            "needs_background": "light"
          }
        },
        {
          "output_type": "display_data",
          "data": {
            "text/plain": [
              "<Figure size 576x360 with 1 Axes>"
            ],
            "image/png": "[encoded data removed]"
          },
          "metadata": {
            "needs_background": "light"
          }
        },
        {
          "output_type": "display_data",
          "data": {
            "text/plain": [
              "<Figure size 576x360 with 1 Axes>"
            ],
            "image/png": "[encoded data removed]"
          },
          "metadata": {
            "needs_background": "light"
          }
        },
        {
          "output_type": "display_data",
          "data": {
            "text/plain": [
              "<Figure size 576x360 with 1 Axes>"
            ],
            "image/png": "[encoded data removed]"
          },
          "metadata": {
            "needs_background": "light"
          }
        },
        {
          "output_type": "display_data",
          "data": {
            "text/plain": [
              "<Figure size 576x360 with 1 Axes>"
            ],
            "image/png": "[encoded data removed]"
          },
          "metadata": {
            "needs_background": "light"
          }
        },
        {
          "output_type": "display_data",
          "data": {
            "text/plain": [
              "<Figure size 576x360 with 1 Axes>"
            ],
            "image/png": "[encoded data removed]"
          },
          "metadata": {
            "needs_background": "light"
          }
        }
      ]
    },
    {
      "cell_type": "markdown",
      "source": [
        "Input features like 'diabetes', 'prevalentStroke' and 'BPMeds' are highly imbalanced."
      ],
      "metadata": {
        "id": "O1zUK5VUh7Ak"
      }
    },
    {
      "cell_type": "markdown",
      "source": [
        "## Bivariate analysis"
      ],
      "metadata": {
        "id": "LSM-tuSViSwl"
      }
    },
    {
      "cell_type": "code",
      "source": [
        "# plotting boxplot for continous features for each class of dependent feature.\n",
        "for col in cts_features:\n",
        "  plt.figure(figsize = (8,6))\n",
        "  sbn.boxplot(x = df[dep_variable],y = df[col])"
      ],
      "metadata": {
        "colab": {
          "base_uri": "https://localhost:8080/",
          "height": 1000
        },
        "id": "yPdMMKirfJUj",
        "outputId": "a194da66-b854-42f4-a14f-4dd67fb784a9"
      },
      "execution_count": 14,
      "outputs": [
        {
          "output_type": "display_data",
          "data": {
            "text/plain": [
              "<Figure size 576x432 with 1 Axes>"
            ],
            "image/png": "[encoded data removed]"
          },
          "metadata": {
            "needs_background": "light"
          }
        },
        {
          "output_type": "display_data",
          "data": {
            "text/plain": [
              "<Figure size 576x432 with 1 Axes>"
            ],
            "image/png": "[encoded data removed]"
          },
          "metadata": {
            "needs_background": "light"
          }
        },
        {
          "output_type": "display_data",
          "data": {
            "text/plain": [
              "<Figure size 576x432 with 1 Axes>"
            ],
            "image/png": "[encoded data removed]"
          },
          "metadata": {
            "needs_background": "light"
          }
        },
        {
          "output_type": "display_data",
          "data": {
            "text/plain": [
              "<Figure size 576x432 with 1 Axes>"
            ],
            "image/png": "[encoded data removed]"
          },
          "metadata": {
            "needs_background": "light"
          }
        },
        {
          "output_type": "display_data",
          "data": {
            "text/plain": [
              "<Figure size 576x432 with 1 Axes>"
            ],
            "image/png": "[encoded data removed]"
          },
          "metadata": {
            "needs_background": "light"
          }
        },
        {
          "output_type": "display_data",
          "data": {
            "text/plain": [
              "<Figure size 576x432 with 1 Axes>"
            ],
            "image/png": "[encoded data removed]"
          },
          "metadata": {
            "needs_background": "light"
          }
        },
        {
          "output_type": "display_data",
          "data": {
            "text/plain": [
              "<Figure size 576x432 with 1 Axes>"
            ],
            "image/png": "[encoded data removed]"
          },
          "metadata": {
            "needs_background": "light"
          }
        },
        {
          "output_type": "display_data",
          "data": {
            "text/plain": [
              "<Figure size 576x432 with 1 Axes>"
            ],
            "image/png": "[encoded data removed]"
          },
          "metadata": {
            "needs_background": "light"
          }
        },
        {
          "output_type": "display_data",
          "data": {
            "text/plain": [
              "<Figure size 576x432 with 1 Axes>"
            ],
            "image/png": "[encoded data removed]"
          },
          "metadata": {
            "needs_background": "light"
          }
        }
      ]
    },
    {
      "cell_type": "markdown",
      "source": [
        "Average value of 'age', 'Cigsperday', 'SysBP', 'DiaBP' and 'BMI' is higher for people at risk of cardiovascular disease."
      ],
      "metadata": {
        "id": "-cQs0M-KiyVL"
      }
    },
    {
      "cell_type": "markdown",
      "source": [
        "Percentage of people in each class of categorical features for each class of dependent variable."
      ],
      "metadata": {
        "id": "_Jvczx2Rudvq"
      }
    },
    {
      "cell_type": "code",
      "source": [
        "\n",
        "df_groupby = df.groupby(by = dep_variable)   # Grouping data by dependent variable\n",
        "for col in cat_features:\n",
        "  df_plot = pd.DataFrame((df_groupby[col].value_counts()/df_groupby['id'].count())*100).reset_index().rename(columns = {0:'Percentage'})\n",
        "  # creating dataframe for each categorical variable with relative percentage.\n",
        "  plt.figure(figsize = (8,6))\n",
        "  sbn.barplot(x = df_plot[dep_variable], y = df_plot['Percentage'] , hue = df_plot[col])\n",
        "  # plotting percentage wise barplot  "
      ],
      "metadata": {
        "colab": {
          "base_uri": "https://localhost:8080/",
          "height": 1000
        },
        "id": "velpFR6JhtMY",
        "outputId": "1d92e967-42cf-45a9-cf8b-04ae621c81ab"
      },
      "execution_count": 15,
      "outputs": [
        {
          "output_type": "display_data",
          "data": {
            "text/plain": [
              "<Figure size 576x432 with 1 Axes>"
            ],
            "image/png": "[encoded data removed]"
          },
          "metadata": {
            "needs_background": "light"
          }
        },
        {
          "output_type": "display_data",
          "data": {
            "text/plain": [
              "<Figure size 576x432 with 1 Axes>"
            ],
            "image/png": "[encoded data removed]"
          },
          "metadata": {
            "needs_background": "light"
          }
        },
        {
          "output_type": "display_data",
          "data": {
            "text/plain": [
              "<Figure size 576x432 with 1 Axes>"
            ],
            "image/png": "[encoded data removed]"
          },
          "metadata": {
            "needs_background": "light"
          }
        },
        {
          "output_type": "display_data",
          "data": {
            "text/plain": [
              "<Figure size 576x432 with 1 Axes>"
            ],
            "image/png": "[encoded data removed]"
          },
          "metadata": {
            "needs_background": "light"
          }
        },
        {
          "output_type": "display_data",
          "data": {
            "text/plain": [
              "<Figure size 576x432 with 1 Axes>"
            ],
            "image/png": "[encoded data removed]"
          },
          "metadata": {
            "needs_background": "light"
          }
        },
        {
          "output_type": "display_data",
          "data": {
            "text/plain": [
              "<Figure size 576x432 with 1 Axes>"
            ],
            "image/png": "[encoded data removed]"
          },
          "metadata": {
            "needs_background": "light"
          }
        },
        {
          "output_type": "display_data",
          "data": {
            "text/plain": [
              "<Figure size 576x432 with 1 Axes>"
            ],
            "image/png": "[encoded data removed]"
          },
          "metadata": {
            "needs_background": "light"
          }
        }
      ]
    },
    {
      "cell_type": "markdown",
      "source": [
        "(1)Percentage distribution of education level is almost similar for both high risk and low risk patients. \\\n",
        "(2) More percentage of men are at high risk for getting cardiovascular disease. \\\n",
        "(3) Higher percentage of people who are smoking are at high risk. \\\n",
        "(4) For people at high risk of cardiovascular disease there is 50% chance that they had prevalent hypertension.\n"
      ],
      "metadata": {
        "id": "111ozztOvD_C"
      }
    },
    {
      "cell_type": "markdown",
      "source": [
        "Out of people having 'diabetes', 'prevalentStroke' , 'BPMeds' how many are at risk of cardiac disease."
      ],
      "metadata": {
        "id": "K-VS-ZFcqwwe"
      }
    },
    {
      "cell_type": "code",
      "source": [
        "diabetes_pos = df[df['diabetes'] == 1]                # creating dataset for diabetes positive people.\n",
        "hypertensive_people = df[df['prevalentStroke'] == 1]  # creating dataset for hypertensive people.\n",
        "BPMeds_pos = df[df['BPMeds'] == 1]                    # creatinf dataset for people taking BP medicines.\n",
        "\n",
        "# plotting countplot\n",
        "fig, ax = plt.subplots(1,3,figsize = (20,5))\n",
        "i = 0\n",
        "for data_set in ['diabetes_pos','hypertensive_people', 'BPMeds_pos']:\n",
        "  sbn.countplot(eval(data_set)[dep_variable],ax = ax[i])\n",
        "  ax[i].set_title(f\"{data_set} count - {eval(data_set).shape[0]} \")\n",
        "  i += 1\n",
        "plt.show()"
      ],
      "metadata": {
        "colab": {
          "base_uri": "https://localhost:8080/",
          "height": 350
        },
        "id": "Ug6Af6IPrXJw",
        "outputId": "e2faa056-0004-48c9-e061-8326c74e4f2b"
      },
      "execution_count": 16,
      "outputs": [
        {
          "output_type": "display_data",
          "data": {
            "text/plain": [
              "<Figure size 1440x360 with 3 Axes>"
            ],
            "image/png": "[encoded data removed]"
          },
          "metadata": {
            "needs_background": "light"
          }
        }
      ]
    },
    {
      "cell_type": "code",
      "source": [
        "seniors = df[df['age'] >= 60]   # Creating dataframe of senior people\n",
        "adults = df[df['age'] < 47]     # Creating dataframe of adult (relatively younger) people\n",
        "middle_aged_adults = df[(df['age'] >= 47) & (df['age'] < 60)]      # Creating dataframe of middle ages adult people\n",
        "\n",
        "# Plotting countplot of disease risk for each age group\n",
        "fig, ax = plt.subplots(1,3,figsize = (20,5))\n",
        "i = 0\n",
        "for data_set in ['adults','middle_aged_adults','seniors']:\n",
        "  sbn.countplot(eval(data_set)[dep_variable],ax = ax[i])\n",
        "  ax[i].set_title(f\"{data_set} age group\")\n",
        "  i += 1\n",
        "  \n",
        "plt.show()"
      ],
      "metadata": {
        "colab": {
          "base_uri": "https://localhost:8080/",
          "height": 350
        },
        "id": "sRLU6gznw-Cu",
        "outputId": "b18a9846-60bb-4501-ee06-8322e7a01a6b"
      },
      "execution_count": 17,
      "outputs": [
        {
          "output_type": "display_data",
          "data": {
            "text/plain": [
              "<Figure size 1440x360 with 3 Axes>"
            ],
            "image/png": "[encoded data removed]"
          },
          "metadata": {
            "needs_background": "light"
          }
        }
      ]
    },
    {
      "cell_type": "markdown",
      "source": [
        "Senior age groups (> 59 years) are relatively at much higher risk for cardiovascular disease and adults (>= 32 but < 47 years) are relatively at lowest risk."
      ],
      "metadata": {
        "id": "bH7jcZ_Y2K6g"
      }
    },
    {
      "cell_type": "markdown",
      "source": [
        "## Multivariate analysis"
      ],
      "metadata": {
        "id": "_5YUjyJq3HdF"
      }
    },
    {
      "cell_type": "code",
      "source": [
        "# Plotting pair plot for numerical variables \n",
        "num_features = list(set(cts_features)-{'id'})   # removing id variable\n",
        "num_df = df[num_features]\n",
        "sbn.pairplot(num_df)\n",
        "plt.show()"
      ],
      "metadata": {
        "id": "8ocDe5LINaLF"
      },
      "execution_count": null,
      "outputs": []
    },
    {
      "cell_type": "code",
      "source": [
        "# Checking correlation of each numerical feature\n",
        "plt.figure(figsize = (15,15))\n",
        "df_corr = df.corr()\n",
        "sbn.heatmap(df_corr, annot = True)"
      ],
      "metadata": {
        "id": "6oMRStC41jWq"
      },
      "execution_count": null,
      "outputs": []
    },
    {
      "cell_type": "markdown",
      "source": [
        "(1) 'sysBP' and 'diaBP' are highly correlated with 0.78 correlation. \\\n",
        "(2) 'glucose' and 'diabetes' are also slighly correlated with 0.62 correlation.\\\n",
        "(3) 'sysBP' and 'prevalentHyp' are 0.7 correlated. \\\n",
        "(4) 'diaBP' and 'prevalentHyp' are also 0.61 correlated."
      ],
      "metadata": {
        "id": "zNsxGd3Ps6T5"
      }
    },
    {
      "cell_type": "code",
      "source": [
        "# plotting correaltion with dependent feature\n",
        "\n",
        "df.drop(dep_variable, axis=1).corrwith(df[dep_variable]).plot(kind='bar', grid=True, figsize=(10, 5), \n",
        "                                                        title=\"Correlation with the target feature\")\n",
        "plt.tight_layout()"
      ],
      "metadata": {
        "id": "oFsdqqaa5zH2"
      },
      "execution_count": null,
      "outputs": []
    },
    {
      "cell_type": "markdown",
      "source": [
        "No feature is strongly correlated with the dependent variable."
      ],
      "metadata": {
        "id": "TzHof6OtoFUt"
      }
    },
    {
      "cell_type": "markdown",
      "source": [
        "# Splitting data into train and test sets."
      ],
      "metadata": {
        "id": "dA97Tj9BoMty"
      }
    },
    {
      "cell_type": "code",
      "source": [
        "y = df[dep_variable]                       # target variable\n",
        "x = df.drop(columns = [dep_variable])      # independent features\n",
        "x_train, x_test, y_train, y_test = train_test_split(x,y, test_size = 0.2, random_state = 0)"
      ],
      "metadata": {
        "id": "UePbshpz5QUX"
      },
      "execution_count": null,
      "outputs": []
    },
    {
      "cell_type": "markdown",
      "source": [
        "We have splitted data into train and test before feature engineering to avoid any kind of data leakage."
      ],
      "metadata": {
        "id": "GBvPNq1BoSH0"
      }
    },
    {
      "cell_type": "markdown",
      "source": [
        "# Feature Engineering"
      ],
      "metadata": {
        "id": "Yd7yt0iq4MrG"
      }
    },
    {
      "cell_type": "markdown",
      "source": [
        "## Labelling the object type categorical feature."
      ],
      "metadata": {
        "id": "JniBGHYL4Q-V"
      }
    },
    {
      "cell_type": "code",
      "source": [
        "x_train.head()"
      ],
      "metadata": {
        "id": "h0b_h80uoqUy"
      },
      "execution_count": null,
      "outputs": []
    },
    {
      "cell_type": "markdown",
      "source": [
        "Since, 'sex' and 'is_smoking' columns are in string format. We have to encode them to numerical data type."
      ],
      "metadata": {
        "id": "fd4cJWkpoyTy"
      }
    },
    {
      "cell_type": "code",
      "source": [
        "def encoding_variables(dataset):\n",
        "  ''' input - dataframe\n",
        "      This function inputs the dataframe and label encode the 'sex' and 'is_smoking' column and then \n",
        "      returns the modified dataframe.'''\n",
        "  dataset['sex'] = np.where(dataset['sex'] == 'M',1,0)                         # encoding 'M' as 1 and 'F' as 0 in 'sex' column\n",
        "  dataset['is_smoking'] = np.where(dataset['is_smoking'] == 'YES', 1,0)        # encoding 'YES' as 1 and 'NO' as 0 in 'is_smoking' column\n",
        "  return dataset"
      ],
      "metadata": {
        "id": "KONR9dlt2jeO"
      },
      "execution_count": null,
      "outputs": []
    },
    {
      "cell_type": "code",
      "source": [
        "x_train = encoding_variables(x_train)      # encoding features of x_train dataset\n",
        "x_test = encoding_variables(x_test)        # encoding features of x_test dataset"
      ],
      "metadata": {
        "id": "6pAgkdg-7jRd"
      },
      "execution_count": null,
      "outputs": []
    },
    {
      "cell_type": "markdown",
      "source": [
        "## Removing null values."
      ],
      "metadata": {
        "id": "513SfnfT8qxp"
      }
    },
    {
      "cell_type": "code",
      "source": [
        "x_train.isnull().sum()  #checking null values in training dataset"
      ],
      "metadata": {
        "id": "gIRXkZ1U85kT"
      },
      "execution_count": null,
      "outputs": []
    },
    {
      "cell_type": "code",
      "source": [
        "from sklearn.impute import SimpleImputer   # Importing SimpleImputer\n",
        "\n",
        "def impute_null_values(dataset_train, dataset_test, cts_features, cat_features):\n",
        "  ''' input - training dataset, testing dataset, numerical features, categorical features \n",
        "      This function divides the input datasets into numerical and categorical datasets then apply different imputation techniques\n",
        "      based on the numerical or categorical columns after that concats the dataframes and returns them. '''\n",
        "\n",
        "\n",
        "  num_feat_train = dataset_train[cts_features]   # Creating numerical train dataframe\n",
        "  num_feat_test  = dataset_test[cts_features]    # Creating numerical test dataframe\n",
        "  cat_feat_train = dataset_train[cat_features]   # Creating categorical train dataframe\n",
        "  cat_feat_test =  dataset_test[cat_features]    # Creating categorical test dataframe\n",
        "\n",
        "  imputer1 = SimpleImputer(strategy = 'median')  # defining imputer for numerical columns\n",
        "  imputer2 = SimpleImputer(strategy = 'most_frequent') # defining imputer for categorical columns\n",
        "\n",
        "  num_feat_train = pd.DataFrame(imputer1.fit_transform(num_feat_train))       # fitting imputer on num train dataframe\n",
        "  num_feat_train.columns = cts_features\n",
        "  num_feat_test = pd.DataFrame(imputer1.transform(num_feat_test))             # fitting imputer on num test dataframe\n",
        "  num_feat_test.columns = cts_features\n",
        "\n",
        "  cat_feat_train = pd.DataFrame(imputer2.fit_transform(cat_feat_train))       # fitting imputer on categorical train dataframe\n",
        "  cat_feat_train.columns = cat_features\n",
        "  cat_feat_test = pd.DataFrame(imputer2.transform(cat_feat_test))             # fitting imputer on categorical train dataframe\n",
        "  cat_feat_test.columns = cat_features\n",
        "\n",
        "  dataset_train = pd.concat([num_feat_train,cat_feat_train], axis = 1)       # concatenating train dataframe\n",
        "  dataset_test = pd.concat([num_feat_test,cat_feat_test], axis = 1)          # concatenating test dataframe\n",
        "  return dataset_train, dataset_test\n",
        "\n",
        "  "
      ],
      "metadata": {
        "id": "EnDChIQ8-u5S"
      },
      "execution_count": null,
      "outputs": []
    },
    {
      "cell_type": "code",
      "source": [
        "x_train, x_test = impute_null_values(x_train,x_test,cts_features, cat_features)   # calling null values imputing function"
      ],
      "metadata": {
        "id": "gCw0MSd2MEXY"
      },
      "execution_count": null,
      "outputs": []
    },
    {
      "cell_type": "code",
      "source": [
        "print(f\"No. of null values in x_train dataset after imputation : {x_train.isnull().sum().sum()}.\")\n",
        "print(f\"No. of null values in x_test dataset after imputation : {x_test.isnull().sum().sum()}.\")\n"
      ],
      "metadata": {
        "id": "MaBge5_Do_Ix"
      },
      "execution_count": null,
      "outputs": []
    },
    {
      "cell_type": "markdown",
      "source": [
        "## Feature Selection"
      ],
      "metadata": {
        "id": "dTuFUB_-4ez-"
      }
    },
    {
      "cell_type": "markdown",
      "source": [
        "'id' feature is unique for each row and therefore not informative for model training. Hence we will drop 'id' column."
      ],
      "metadata": {
        "id": "-KyXI2c_43Yr"
      }
    },
    {
      "cell_type": "code",
      "source": [
        "def drop_column(dataset, col):\n",
        "  ''' input - dataframe, column \n",
        "      This function inputs a dataframe and a column to drop from the dataframe and then\n",
        "      returns the modified dataframe.'''\n",
        "  dataset.drop(columns = [col], inplace = True)\n",
        "  return dataset"
      ],
      "metadata": {
        "id": "coGIKuIk4iVW"
      },
      "execution_count": null,
      "outputs": []
    },
    {
      "cell_type": "code",
      "source": [
        "x_train = drop_column(x_train, 'id')    # dropping 'id' from x_train\n",
        "x_test = drop_column(x_test, 'id')      # dropping 'id' from x_test"
      ],
      "metadata": {
        "id": "a6oYxCZb8Be8"
      },
      "execution_count": null,
      "outputs": []
    },
    {
      "cell_type": "markdown",
      "source": [
        "### Applying Chi-square test for feature selection from categorical features."
      ],
      "metadata": {
        "id": "q__0O7Fb1lzH"
      }
    },
    {
      "cell_type": "code",
      "source": [
        "from sklearn.feature_selection import chi2          # importing chi2\n",
        "chi_scores = chi2(x_train[cat_features],y_train)    # calculating chi scores and corresponding p-values for only categorical features\n",
        "\n",
        "p_values = pd.Series(chi_scores[1],index = x_train[cat_features].columns)      # creating dataframe of p-values of categorical features \n",
        "p_values.sort_values(ascending = False , inplace = True)                       # sorting dataframe\n",
        "\n",
        "p_values.plot.bar()\n",
        "plt.show()                                                            # plotting p-values bar plot"
      ],
      "metadata": {
        "id": "50KRFvBo8NAp"
      },
      "execution_count": null,
      "outputs": []
    },
    {
      "cell_type": "markdown",
      "source": [
        "Since, p-value for 'is_smoking' is very high, so we will drop that column. \\\n",
        "\n",
        "Also one thing to notice is that, we are also given a column 'cigsPerDay' which tells us the average no. of ciggerates smoked per day by the person. If person doesn't smoke then it is zero. So, the information given in 'is_smoking' is already present in 'cigsPerDay'. Hence we can drop the 'is_smoking' column."
      ],
      "metadata": {
        "id": "AVfvIhEj276W"
      }
    },
    {
      "cell_type": "code",
      "source": [
        "x_train = drop_column(x_train, 'is_smoking')\n",
        "x_test = drop_column(x_test, 'is_smoking')"
      ],
      "metadata": {
        "id": "83hL5Y6qTqLc"
      },
      "execution_count": null,
      "outputs": []
    },
    {
      "cell_type": "markdown",
      "source": [
        "Calculating collinearity between each independent variable"
      ],
      "metadata": {
        "id": "-oetWjIy3yMQ"
      }
    },
    {
      "cell_type": "code",
      "source": [
        "x_train_corr = x_train.corr()\n",
        "plt.figure(figsize = (14,14))\n",
        "sbn.heatmap(x_train_corr, annot = True)"
      ],
      "metadata": {
        "id": "ONR3xFu0L3vc"
      },
      "execution_count": null,
      "outputs": []
    },
    {
      "cell_type": "markdown",
      "source": [
        "Since 'sysBP' and 'diaBP' have high correlation we will drop one of them."
      ],
      "metadata": {
        "id": "g9cB3Vpdvi98"
      }
    },
    {
      "cell_type": "code",
      "source": [
        "x_train = drop_column(x_train, 'diaBP')\n",
        "x_test = drop_column(x_test, 'diaBP')"
      ],
      "metadata": {
        "id": "dSkuExNGJiST"
      },
      "execution_count": null,
      "outputs": []
    },
    {
      "cell_type": "markdown",
      "source": [
        "We have dropped 'diaBP' column."
      ],
      "metadata": {
        "id": "vgUcoaNqJoa6"
      }
    },
    {
      "cell_type": "markdown",
      "source": [
        "## Reducing skewness"
      ],
      "metadata": {
        "id": "WclVTm8Nv1CU"
      }
    },
    {
      "cell_type": "code",
      "source": [
        "# checking skewness of cts numerical features\n",
        "x_train[['age','cigsPerDay','totChol','BMI','sysBP','heartRate','glucose']].skew()  "
      ],
      "metadata": {
        "id": "YazzsHD61N-s"
      },
      "execution_count": null,
      "outputs": []
    },
    {
      "cell_type": "code",
      "source": [
        "# Applying log10 transformation to reduce skewness\n",
        "np.log10(x_train[['age','cigsPerDay','totChol','BMI','sysBP','heartRate','glucose']]).skew()"
      ],
      "metadata": {
        "id": "RPO5awQ32WFM"
      },
      "execution_count": null,
      "outputs": []
    },
    {
      "cell_type": "code",
      "source": [
        "# Apply sqrt transformation to reduce skewness\n",
        "np.sqrt(x_train[['age','cigsPerDay','totChol','BMI','sysBP','heartRate','glucose']]).skew()"
      ],
      "metadata": {
        "id": "zbcC7L1Q1q2_"
      },
      "execution_count": null,
      "outputs": []
    },
    {
      "cell_type": "code",
      "source": [
        "def reduce_skewness(dataset):\n",
        "  '''input - dataframe\n",
        "    This function takes the skewed dataframe and applies transformation on them\n",
        "    and returns the transformed dataframe.'''\n",
        "  dataset[['totChol','sysBP','BMI','heartRate','glucose']] = np.log10(dataset[['totChol','sysBP','BMI','heartRate','glucose']])\n",
        "  dataset[['cigsPerDay']] = np.sqrt(dataset[['cigsPerDay']])\n",
        "  return dataset\n",
        "  "
      ],
      "metadata": {
        "id": "LRwyGBjdzyuB"
      },
      "execution_count": null,
      "outputs": []
    },
    {
      "cell_type": "code",
      "source": [
        "x_train = reduce_skewness(x_train)   # reducing skewness of x_train\n",
        "x_test = reduce_skewness(x_test)     # reducing skewness of x_test"
      ],
      "metadata": {
        "id": "OlaHBXG_0tQ0"
      },
      "execution_count": null,
      "outputs": []
    },
    {
      "cell_type": "markdown",
      "source": [
        "## Handling Imbalanced dataset"
      ],
      "metadata": {
        "id": "juWJF4Uh3yYq"
      }
    },
    {
      "cell_type": "code",
      "source": [
        "y_train.value_counts()"
      ],
      "metadata": {
        "id": "ie1CBEnQ9O7S"
      },
      "execution_count": null,
      "outputs": []
    },
    {
      "cell_type": "markdown",
      "source": [
        "Since our given dataset is highly imbalanced. Hence we will use some resampling techniques called SMOTE"
      ],
      "metadata": {
        "id": "LtNcW3Yg8E9M"
      }
    },
    {
      "cell_type": "code",
      "source": [
        "from imblearn.over_sampling import SMOTE    # importing SMOTE\n",
        "\n",
        "smote = SMOTE()                             # defining SMOTE\n",
        "\n",
        "# fit predictor and target variable\n",
        "x_smote, y_smote = smote.fit_resample(x_train, y_train)   \n",
        "\n",
        "print('Original dataset shape', len(y_train))\n",
        "print('Resampled dataset shape', len(y_smote))"
      ],
      "metadata": {
        "id": "j8DMRxGAqPqn"
      },
      "execution_count": null,
      "outputs": []
    },
    {
      "cell_type": "code",
      "source": [
        "y_smote.value_counts()"
      ],
      "metadata": {
        "id": "VwPykEzM4ilO"
      },
      "execution_count": null,
      "outputs": []
    },
    {
      "cell_type": "markdown",
      "source": [
        "## Model Training and evaluation"
      ],
      "metadata": {
        "id": "TZ5x3uTV9ovk"
      }
    },
    {
      "cell_type": "markdown",
      "source": [
        "## Without hyperparameter tuning"
      ],
      "metadata": {
        "id": "eNaMAETSTcZd"
      }
    },
    {
      "cell_type": "code",
      "source": [
        "from sklearn.preprocessing import StandardScaler\n",
        "\n",
        "def rescaling(x_train, x_test):\n",
        "  ''' input - training dataset, testing dataset\n",
        "      This functions input a pair of datasets one training and other one testing.\n",
        "      This funtions fits and transforms the scaler on training dataset and uses same scaler to transform\n",
        "      the testing dataset. It returns the transformed datasets.'''\n",
        "  scale = StandardScaler()\n",
        "  x_train = scale.fit_transform(x_train)\n",
        "  x_test = scale.transform(x_test)\n",
        "\n",
        "  return x_train, x_test"
      ],
      "metadata": {
        "id": "aKfvUHYmR6is"
      },
      "execution_count": null,
      "outputs": []
    },
    {
      "cell_type": "code",
      "source": [
        "from sklearn.model_selection import GridSearchCV, RandomizedSearchCV"
      ],
      "metadata": {
        "id": "uHys70l8Frhy"
      },
      "execution_count": null,
      "outputs": []
    },
    {
      "cell_type": "code",
      "source": [
        "def evaluating_model(model,x_train, x_test, y_train, y_test):\n",
        "  '''This fucntion inputs the model and various datasets.\n",
        "     It then predicts using the model and input datasets after that it evaluates the prediction\n",
        "     using various metrics and returns the result of evaluation.'''\n",
        "  y_train_pred = model.predict(x_train)                         \n",
        "  y_train_pred_proba = model.predict_proba(x_train)[:,1]\n",
        "  y_pred = model.predict(x_test)\n",
        "  y_pred_proba = model.predict_proba(x_test)[:, 1]\n",
        "\n",
        "  print('-------------- Train set evaluation ---------------')\n",
        "\n",
        "  print(f\"Train accuracy_score : {round(accuracy_score(y_train,y_train_pred),4)}\")\n",
        "  \n",
        "  print(f\"Train roc_auc_score : {round(roc_auc_score(y_train,y_train_pred_proba),4)}\")\n",
        "\n",
        "  print(f\"Train f1_score : {round(f1_score(y_train,y_train_pred),4)}\")\n",
        "  \n",
        "  print(f\"Train precision score : {round(precision_score(y_train,y_train_pred),4)}\")\n",
        "\n",
        "  print(f\"Train recall score : {round(recall_score(y_train,y_train_pred),4)}\")\n",
        "\n",
        "  print(f\"Train confusion matrix : \\n{confusion_matrix(y_train,y_train_pred)}\\n\")\n",
        "\n",
        "  print('-------------- Test set evaluation ---------------')\n",
        "\n",
        "  print(f\"Test accuracy_score : {round(accuracy_score(y_test,y_pred),4)}\")\n",
        "  \n",
        "  print(f\"Test roc_auc_score : {round(roc_auc_score(y_test,y_pred_proba),4)}\")\n",
        "\n",
        "  print(f\"Test f1_score : {round(f1_score(y_test,y_pred),4)}\")\n",
        "  \n",
        "  print(f\"Test precision score : {round(precision_score(y_test,y_pred),4)}\")\n",
        "\n",
        "  print(f\"Test recall score : {round(recall_score(y_test,y_pred),4)}\\n\")\n",
        "\n",
        "  print(f\"Test confusion matrix : \\n{confusion_matrix(y_test,y_pred)}\\n\")"
      ],
      "metadata": {
        "id": "4ENWuaWvGs-R"
      },
      "execution_count": null,
      "outputs": []
    },
    {
      "cell_type": "code",
      "source": [
        "from sklearn.linear_model import LogisticRegression\n",
        "from sklearn.neighbors import KNeighborsClassifier"
      ],
      "metadata": {
        "id": "ajvRjCnoqs6C"
      },
      "execution_count": null,
      "outputs": []
    },
    {
      "cell_type": "code",
      "source": [
        "def decisiontree_fit(x_train,y_train):\n",
        "  ''' Defining and training decision tree model '''\n",
        "  dt = DecisionTreeClassifier(random_state = 0)\n",
        "  dt.fit(x_train,y_train)\n",
        "  return dt\n",
        "\n",
        "def randomforest_fit(x_train, y_train):\n",
        "  ''' Defining and training random forest model '''\n",
        "  RF = RandomForestClassifier( random_state = 0)\n",
        "  RF.fit(x_train,y_train)\n",
        "  return RF\n",
        "\n",
        "def gradientboosting_fit(x_train,y_train):\n",
        "  ''' Defining and training gradient boosting model '''\n",
        "  GB1 = GradientBoostingClassifier(random_state = 0)\n",
        "  GB1.fit(x_train,y_train)\n",
        "  return GB1\n",
        "\n",
        "def supportvector_fit(x_train, y_train):\n",
        "  ''' Defining and training SVM model '''\n",
        "  svc1 = SVC(probability = True)\n",
        "  svc1.fit(x_train,y_train)\n",
        "  return svc1\n",
        "\n",
        "def logisticregression_fit(x_train,y_train):\n",
        "  ''' Defining and training logistic regression model '''\n",
        "  logreg = LogisticRegression()\n",
        "  logreg.fit(x_train, y_train)\n",
        "  return logreg\n",
        "\n",
        "def knn_fit(x_train,y_train):\n",
        "  ''' Defining and training knn model '''\n",
        "  knn = KNeighborsClassifier()\n",
        "  knn.fit(x_train,y_train)\n",
        "  return knn"
      ],
      "metadata": {
        "id": "BQJb5c8c7CPp"
      },
      "execution_count": null,
      "outputs": []
    },
    {
      "cell_type": "code",
      "source": [
        "# Defining decision tree model\n",
        "dt1 = decisiontree_fit(x_smote,y_smote)\n",
        "\n",
        "# Defining random forest model\n",
        "rf1 = randomforest_fit(x_smote, y_smote)\n",
        "\n",
        "# Defining gradient boosting model\n",
        "gb1 = gradientboosting_fit(x_smote, y_smote)\n",
        "\n",
        "# Scaling data for models that require data to be standarized\n",
        "x_train_scaled, x_test_scaled = rescaling(x_smote, x_test)\n",
        "\n",
        "# Defining SVM model\n",
        "svm1 = supportvector_fit(x_train_scaled,y_smote)\n",
        "\n",
        "# Defining logistic regression model\n",
        "lr1 = logisticregression_fit(x_train_scaled,y_smote)\n",
        "\n",
        "# Defining knn model\n",
        "knn1 = knn_fit(x_train_scaled,y_smote)"
      ],
      "metadata": {
        "id": "B3-QS0Xu7yit"
      },
      "execution_count": null,
      "outputs": []
    },
    {
      "cell_type": "code",
      "source": [
        "# Evaluating decision tree model\n",
        "evaluating_model(dt1,x_smote, x_test, y_smote, y_test)"
      ],
      "metadata": {
        "id": "0FShDvfm8yaa"
      },
      "execution_count": null,
      "outputs": []
    },
    {
      "cell_type": "code",
      "source": [
        "# Evaluating random forest model\n",
        "evaluating_model(rf1,x_smote, x_test, y_smote, y_test)"
      ],
      "metadata": {
        "id": "wpqoyoceJ9ra"
      },
      "execution_count": null,
      "outputs": []
    },
    {
      "cell_type": "code",
      "source": [
        "# Evaluating GBBoost model\n",
        "evaluating_model(gb1,x_smote, x_test, y_smote, y_test)"
      ],
      "metadata": {
        "id": "6Lo62VSN8q5e"
      },
      "execution_count": null,
      "outputs": []
    },
    {
      "cell_type": "code",
      "source": [
        "# Evaluating SVM model\n",
        "evaluating_model(svm1,x_train_scaled, x_test_scaled, y_smote, y_test)"
      ],
      "metadata": {
        "id": "V4iA50RmVgnc"
      },
      "execution_count": null,
      "outputs": []
    },
    {
      "cell_type": "code",
      "source": [
        "# Evaluating Logistic regression model\n",
        "evaluating_model(lr1,x_train_scaled, x_test_scaled, y_smote, y_test)"
      ],
      "metadata": {
        "id": "nblWeNpYVqOo"
      },
      "execution_count": null,
      "outputs": []
    },
    {
      "cell_type": "code",
      "source": [
        "# Evaluating KNN model\n",
        "evaluating_model(knn1,x_train_scaled, x_test_scaled, y_smote, y_test)"
      ],
      "metadata": {
        "id": "DTJq9wC7Vk35"
      },
      "execution_count": null,
      "outputs": []
    },
    {
      "cell_type": "markdown",
      "source": [
        "We are using Logistic regression and Random Forest for hyperparameter tuning."
      ],
      "metadata": {
        "id": "_zTm6Mf2L6dF"
      }
    },
    {
      "cell_type": "markdown",
      "source": [
        "## With hyperparameter tuning"
      ],
      "metadata": {
        "id": "rwYH4R0mWkP8"
      }
    },
    {
      "cell_type": "code",
      "source": [
        "\n",
        "def randomforest_fit_hpt(x_train, y_train):\n",
        "  ''' defining random forest model with hyperparameter tuning''' \n",
        "  param_dict = {'n_estimators' : [1000],\n",
        "                'criterion' : ['gini'],\n",
        "                'max_depth' : list(np.linspace(4, 45,  dtype = int)),\n",
        "                'max_features' : ['sqrt', 'log2', 0.3,0.4,0.5],\n",
        "                # 'min_samples_split' : list(np.linspace(4, 30, dtype = int)) ,\n",
        "                'max_samples' : list(np.linspace(0.4,1,7)),\n",
        "                'min_samples_leaf' : list(np.linspace(15, 45, 15, dtype = int))}\n",
        "                #'max_leaf_nodes' : list(np.linspace(1, 100, 25, dtype = int))}\n",
        "  RF = RandomForestClassifier( random_state = 0)\n",
        "  model = RandomizedSearchCV(estimator = RF, param_distributions = param_dict, scoring = 'f1' ,\n",
        "                               cv = 5, random_state= 10)\n",
        "  model.fit(x_train,y_train)\n",
        "  return model\n",
        "\n",
        "\n",
        "\n",
        "\n",
        "def logisticregression_fit_hpt(x_train,y_train):\n",
        "  ''' defining logistic regression with hyperparameter tuning'''\n",
        "  param_dict = {'penalty' : ['l1', 'l2', 'elasticnet'],\n",
        "              'C' : list(np.linspace(0.01,10,100))}\n",
        "  logreg = LogisticRegression(random_state = 0)\n",
        "  model = RandomizedSearchCV(estimator = logreg, param_distributions = param_dict, scoring = 'f1' ,\n",
        "                               cv = 5, random_state= 10)\n",
        "\n",
        "  model.fit(x_train, y_train)\n",
        "  return model\n",
        "\n"
      ],
      "metadata": {
        "id": "XocyAg7TWRdT"
      },
      "execution_count": null,
      "outputs": []
    },
    {
      "cell_type": "code",
      "source": [
        "\n",
        "rf2 = randomforest_fit_hpt(x_smote,y_smote)\n",
        "\n",
        "x_train_scaled, x_test_scaled = rescaling(x_smote, x_test)\n",
        "\n",
        "\n",
        "lr2 = logisticregression_fit_hpt(x_train_scaled,y_smote)\n"
      ],
      "metadata": {
        "id": "KqA7ll84a_GT"
      },
      "execution_count": null,
      "outputs": []
    },
    {
      "cell_type": "code",
      "source": [
        "rf2.best_params_"
      ],
      "metadata": {
        "id": "MeqDXxnHSa9P"
      },
      "execution_count": null,
      "outputs": []
    },
    {
      "cell_type": "code",
      "source": [
        "evaluating_model(rf2,x_smote, x_test, y_smote, y_test)"
      ],
      "metadata": {
        "id": "SvUI9nVuTlb4"
      },
      "execution_count": null,
      "outputs": []
    },
    {
      "cell_type": "code",
      "source": [
        "lr2.best_params_"
      ],
      "metadata": {
        "id": "4Bu_T3V8PxrZ"
      },
      "execution_count": null,
      "outputs": []
    },
    {
      "cell_type": "code",
      "source": [
        "evaluating_model(lr2,x_smote, x_test, y_smote, y_test)"
      ],
      "metadata": {
        "id": "ISQW-kORSC9E"
      },
      "execution_count": null,
      "outputs": []
    },
    {
      "cell_type": "code",
      "source": [
        "def plot_thresholds(model, title):\n",
        "    \n",
        "    global X_test, y_test\n",
        "    \n",
        "    recall_list = []\n",
        "    f1_list = []\n",
        "    precision_list = []\n",
        "    \n",
        "    \n",
        "    for thresh in np.linspace(0, 1, 101):\n",
        "        proba = model.predict_proba(y_test)\n",
        "        proba = np.where(proba[:,0]>thresh, 0, 1)\n",
        "        \n",
        "        recall = recall_score(y_test, proba)\n",
        "        f1 = f1_score(y_test, proba)\n",
        "        precision = precision_score(y_test, proba)\n",
        "        \n",
        "        recall_list.append(recall)\n",
        "        f1_list.append(f1)\n",
        "        precision_list.append(precision)\n",
        "    \n",
        "    plt.plot(recall_list, label='Recall')\n",
        "    plt.plot(f1_list, label='F1')\n",
        "    plt.plot(precision_list, label='Precision')\n",
        "    plt.legend()\n",
        "    plt.title(title, fontsize=20)\n",
        "    plt.xlabel('Threshold', fontsize=15)\n",
        "    plt.ylabel('Performance', fontsize=15)\n",
        "    plt.show()"
      ],
      "metadata": {
        "id": "Cc-DhByWQ9FW"
      },
      "execution_count": null,
      "outputs": []
    }
  ]
}